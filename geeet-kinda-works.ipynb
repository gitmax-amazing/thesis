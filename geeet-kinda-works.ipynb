{
 "cells": [
  {
   "cell_type": "code",
   "execution_count": 3,
   "id": "95543054",
   "metadata": {},
   "outputs": [],
   "source": [
    "#import all packages necessary for the program\n",
    "\n",
    "import numpy as np          #classics\n",
    "import geopandas as gpd\n",
    "\n",
    "import ee                   #earth engine\n",
    "import geemap\n",
    "import geeet\n",
    "from geeet.eepredefined import landsat\n",
    "\n",
    "import arcpy               #arcgis\n",
    "from arcpy import env\n",
    "\n",
    "import time                 #time management"
   ]
  },
  {
   "cell_type": "code",
   "execution_count": 4,
   "id": "0ec2298c",
   "metadata": {},
   "outputs": [
    {
     "data": {
      "text/html": [
       "\n",
       "            <style>\n",
       "                .geemap-dark {\n",
       "                    --jp-widgets-color: white;\n",
       "                    --jp-widgets-label-color: white;\n",
       "                    --jp-ui-font-color1: white;\n",
       "                    --jp-layout-color2: #454545;\n",
       "                    background-color: #383838;\n",
       "                }\n",
       "\n",
       "                .geemap-dark .jupyter-button {\n",
       "                    --jp-layout-color3: #383838;\n",
       "                }\n",
       "\n",
       "                .geemap-colab {\n",
       "                    background-color: var(--colab-primary-surface-color, white);\n",
       "                }\n",
       "\n",
       "                .geemap-colab .jupyter-button {\n",
       "                    --jp-layout-color3: var(--colab-primary-surface-color, white);\n",
       "                }\n",
       "            </style>\n",
       "            "
      ],
      "text/plain": [
       "<IPython.core.display.HTML object>"
      ]
     },
     "metadata": {},
     "output_type": "display_data"
    }
   ],
   "source": [
    "#initialize earth engine\n",
    "#ee.Authenticate() #uncomment this line if running for the first time\n",
    "ee.Initialize()\n"
   ]
  },
  {
   "cell_type": "code",
   "execution_count": 5,
   "id": "be1fa617",
   "metadata": {},
   "outputs": [
    {
     "data": {
      "text/html": [
       "\n",
       "            <style>\n",
       "                .geemap-dark {\n",
       "                    --jp-widgets-color: white;\n",
       "                    --jp-widgets-label-color: white;\n",
       "                    --jp-ui-font-color1: white;\n",
       "                    --jp-layout-color2: #454545;\n",
       "                    background-color: #383838;\n",
       "                }\n",
       "\n",
       "                .geemap-dark .jupyter-button {\n",
       "                    --jp-layout-color3: #383838;\n",
       "                }\n",
       "\n",
       "                .geemap-colab {\n",
       "                    background-color: var(--colab-primary-surface-color, white);\n",
       "                }\n",
       "\n",
       "                .geemap-colab .jupyter-button {\n",
       "                    --jp-layout-color3: var(--colab-primary-surface-color, white);\n",
       "                }\n",
       "            </style>\n",
       "            "
      ],
      "text/plain": [
       "<IPython.core.display.HTML object>"
      ]
     },
     "metadata": {},
     "output_type": "display_data"
    },
    {
     "name": "stdout",
     "output_type": "stream",
     "text": [
      "There are 21 images in the collection.\n"
     ]
    }
   ],
   "source": [
    "#Define area of interest\n",
    "region = ee.FeatureCollection(\"projects/ee-redwall6152/assets/DC_bound\")\n",
    "\n",
    "#Define time range\n",
    "start_date = '2022-03-01'\n",
    "end_date = '2022-10-31'\n",
    "year = '2022'\n",
    "\n",
    "\n",
    "\n",
    "# Define a custom workflow (TSEB model + LE extrapolation)\n",
    "workflow = [\n",
    "    geeet.tseb.tseb_series,\n",
    "    landsat.extrapolate_LE    # this adds the \"ET\" band, in mm/day\n",
    "]\n",
    "\n",
    "# Create Landsat TSEB collection with ERA5 data \n",
    "\n",
    "landsat_era5_tseb_collection = landsat.mapped_collection(\n",
    "    workflow,\n",
    "    date_start = start_date,\n",
    "    date_end = end_date,\n",
    "    region = region,\n",
    "    include_pr = [[41, 30]],\n",
    "    max_cc = 20, \n",
    "    era5 = True,\n",
    "    timeZone = 'America/Boise',\n",
    ")\n",
    "\n",
    "print('There are', landsat_era5_tseb_collection.getInfo()['features'].__len__(), 'images in the collection.')"
   ]
  },
  {
   "cell_type": "code",
   "execution_count": 106,
   "id": "ab40f478",
   "metadata": {},
   "outputs": [
    {
     "data": {
      "text/html": [
       "\n",
       "            <style>\n",
       "                .geemap-dark {\n",
       "                    --jp-widgets-color: white;\n",
       "                    --jp-widgets-label-color: white;\n",
       "                    --jp-ui-font-color1: white;\n",
       "                    --jp-layout-color2: #454545;\n",
       "                    background-color: #383838;\n",
       "                }\n",
       "\n",
       "                .geemap-dark .jupyter-button {\n",
       "                    --jp-layout-color3: #383838;\n",
       "                }\n",
       "\n",
       "                .geemap-colab {\n",
       "                    background-color: var(--colab-primary-surface-color, white);\n",
       "                }\n",
       "\n",
       "                .geemap-colab .jupyter-button {\n",
       "                    --jp-layout-color3: var(--colab-primary-surface-color, white);\n",
       "                }\n",
       "            </style>\n",
       "            "
      ],
      "text/plain": [
       "<IPython.core.display.HTML object>"
      ]
     },
     "metadata": {},
     "output_type": "display_data"
    },
    {
     "name": "stdout",
     "output_type": "stream",
     "text": [
      "Dates of images in collection: ['2013-06-22', '2013-07-08', '2013-08-09', '2013-08-25', '2013-09-10', '2013-04-11', '2013-04-27', '2013-05-13', '2013-06-14', '2013-06-30', '2013-08-01', '2013-10-04', '2013-10-20']\n",
      "File names in collection: ['LE07_L2SP_041030_20130622_20200907_02_T1', 'LE07_L2SP_041030_20130708_20200907_02_T1', 'LE07_L2SP_041030_20130809_20200907_02_T1', 'LE07_L2SP_041030_20130825_20200907_02_T1', 'LE07_L2SP_041030_20130910_20200907_02_T1', 'LC08_L2SP_041030_20130411_20200912_02_T1', 'LC08_L2SP_041030_20130427_20200913_02_T1', 'LC08_L2SP_041030_20130513_20200912_02_T1', 'LC08_L2SP_041030_20130614_20200912_02_T1', 'LC08_L2SP_041030_20130630_20200912_02_T1', 'LC08_L2SP_041030_20130801_20200912_02_T1', 'LC08_L2SP_041030_20131004_20200913_02_T1', 'LC08_L2SP_041030_20131020_20200912_02_T1']\n"
     ]
    }
   ],
   "source": [
    "#Check dates of collected images\n",
    "dates = landsat_era5_tseb_collection.aggregate_array('system:time_start').getInfo()\n",
    "readable_dates = [time.strftime('%Y-%m-%d', time.gmtime(d/1000)) for d in dates]\n",
    "print('Dates of images in collection:', readable_dates)\n",
    "\n",
    "#Check file names\n",
    "file_names = landsat_era5_tseb_collection.aggregate_array('LANDSAT_PRODUCT_ID').getInfo()\n",
    "print('File names in collection:', file_names)"
   ]
  },
  {
   "cell_type": "code",
   "execution_count": 6,
   "id": "f548579d",
   "metadata": {},
   "outputs": [
    {
     "data": {
      "text/html": [
       "\n",
       "            <style>\n",
       "                .geemap-dark {\n",
       "                    --jp-widgets-color: white;\n",
       "                    --jp-widgets-label-color: white;\n",
       "                    --jp-ui-font-color1: white;\n",
       "                    --jp-layout-color2: #454545;\n",
       "                    background-color: #383838;\n",
       "                }\n",
       "\n",
       "                .geemap-dark .jupyter-button {\n",
       "                    --jp-layout-color3: #383838;\n",
       "                }\n",
       "\n",
       "                .geemap-colab {\n",
       "                    background-color: var(--colab-primary-surface-color, white);\n",
       "                }\n",
       "\n",
       "                .geemap-colab .jupyter-button {\n",
       "                    --jp-layout-color3: var(--colab-primary-surface-color, white);\n",
       "                }\n",
       "            </style>\n",
       "            "
      ],
      "text/plain": [
       "<IPython.core.display.HTML object>"
      ]
     },
     "metadata": {},
     "output_type": "display_data"
    },
    {
     "name": "stdout",
     "output_type": "stream",
     "text": [
      "There are 21 images in the clipped collection.\n"
     ]
    }
   ],
   "source": [
    "#Define a clipping function\n",
    "def clip_to_region(img):\n",
    "    return img.clip(region)\n",
    "\n",
    "#Clip the collection to the region\n",
    "landsat_era5_tseb_clipped = landsat_era5_tseb_collection.map(clip_to_region)\n",
    "\n",
    "print('There are', landsat_era5_tseb_clipped.getInfo()['features'].__len__(), 'images in the clipped collection.')"
   ]
  },
  {
   "cell_type": "code",
   "execution_count": 7,
   "id": "6c2152ee",
   "metadata": {},
   "outputs": [
    {
     "data": {
      "text/html": [
       "\n",
       "            <style>\n",
       "                .geemap-dark {\n",
       "                    --jp-widgets-color: white;\n",
       "                    --jp-widgets-label-color: white;\n",
       "                    --jp-ui-font-color1: white;\n",
       "                    --jp-layout-color2: #454545;\n",
       "                    background-color: #383838;\n",
       "                }\n",
       "\n",
       "                .geemap-dark .jupyter-button {\n",
       "                    --jp-layout-color3: #383838;\n",
       "                }\n",
       "\n",
       "                .geemap-colab {\n",
       "                    background-color: var(--colab-primary-surface-color, white);\n",
       "                }\n",
       "\n",
       "                .geemap-colab .jupyter-button {\n",
       "                    --jp-layout-color3: var(--colab-primary-surface-color, white);\n",
       "                }\n",
       "            </style>\n",
       "            "
      ],
      "text/plain": [
       "<IPython.core.display.HTML object>"
      ]
     },
     "metadata": {},
     "output_type": "display_data"
    },
    {
     "data": {
      "text/plain": [
       "['SR_B1',\n",
       " 'SR_B2',\n",
       " 'SR_B3',\n",
       " 'SR_B4',\n",
       " 'SR_B5',\n",
       " 'SR_B7',\n",
       " 'SR_ATMOS_OPACITY',\n",
       " 'SR_CLOUD_QA',\n",
       " 'ST_B6',\n",
       " 'ST_ATRAN',\n",
       " 'ST_CDIST',\n",
       " 'ST_DRAD',\n",
       " 'ST_EMIS',\n",
       " 'ST_EMSD',\n",
       " 'ST_QA',\n",
       " 'ST_TRAD',\n",
       " 'ST_URAD',\n",
       " 'QA_PIXEL',\n",
       " 'QA_RADSAT',\n",
       " 'NDVI',\n",
       " 'albedo',\n",
       " 'radiometric_temperature',\n",
       " 'cloud_cover',\n",
       " 'surface_pressure',\n",
       " 'air_temperature',\n",
       " 'dewpoint_temperature',\n",
       " 'u_component_of_wind_10m',\n",
       " 'v_component_of_wind_10m',\n",
       " 'surface_solar_radiation_downwards_hourly',\n",
       " 'surface_thermal_radiation_downwards_hourly',\n",
       " 'wind_speed',\n",
       " 'solar_radiation',\n",
       " 'thermal_radiation',\n",
       " 'Tc',\n",
       " 'Ts',\n",
       " 'Tac',\n",
       " 'Hc',\n",
       " 'Hs',\n",
       " 'LEc',\n",
       " 'LEs',\n",
       " 'Ra',\n",
       " 'Rs',\n",
       " 'Rx',\n",
       " 'Ustar',\n",
       " 'alphaPT',\n",
       " 'iteration',\n",
       " 'LE',\n",
       " 'H',\n",
       " 'G',\n",
       " 'Rn',\n",
       " 'Rns',\n",
       " 'Rnc',\n",
       " 'ET']"
      ]
     },
     "execution_count": 7,
     "metadata": {},
     "output_type": "execute_result"
    }
   ],
   "source": [
    "#Get info on the new band names in the collection\n",
    "landsat_era5_tseb_clipped.first().bandNames().getInfo()\n"
   ]
  },
  {
   "cell_type": "code",
   "execution_count": 119,
   "id": "1cdaacf8",
   "metadata": {},
   "outputs": [
    {
     "data": {
      "text/html": [
       "\n",
       "            <style>\n",
       "                .geemap-dark {\n",
       "                    --jp-widgets-color: white;\n",
       "                    --jp-widgets-label-color: white;\n",
       "                    --jp-ui-font-color1: white;\n",
       "                    --jp-layout-color2: #454545;\n",
       "                    background-color: #383838;\n",
       "                }\n",
       "\n",
       "                .geemap-dark .jupyter-button {\n",
       "                    --jp-layout-color3: #383838;\n",
       "                }\n",
       "\n",
       "                .geemap-colab {\n",
       "                    background-color: var(--colab-primary-surface-color, white);\n",
       "                }\n",
       "\n",
       "                .geemap-colab .jupyter-button {\n",
       "                    --jp-layout-color3: var(--colab-primary-surface-color, white);\n",
       "                }\n",
       "            </style>\n",
       "            "
      ],
      "text/plain": [
       "<IPython.core.display.HTML object>"
      ]
     },
     "metadata": {},
     "output_type": "display_data"
    }
   ],
   "source": [
    "#Create a seasonal composite of the ET band\n",
    "landsat_clipped_et = landsat_era5_tseb_clipped.select('ET')\n",
    "landsat_et_composite = landsat_clipped_et.mean()\n"
   ]
  },
  {
   "cell_type": "code",
   "execution_count": 120,
   "id": "6d58b030",
   "metadata": {},
   "outputs": [
    {
     "data": {
      "text/html": [
       "\n",
       "            <style>\n",
       "                .geemap-dark {\n",
       "                    --jp-widgets-color: white;\n",
       "                    --jp-widgets-label-color: white;\n",
       "                    --jp-ui-font-color1: white;\n",
       "                    --jp-layout-color2: #454545;\n",
       "                    background-color: #383838;\n",
       "                }\n",
       "\n",
       "                .geemap-dark .jupyter-button {\n",
       "                    --jp-layout-color3: #383838;\n",
       "                }\n",
       "\n",
       "                .geemap-colab {\n",
       "                    background-color: var(--colab-primary-surface-color, white);\n",
       "                }\n",
       "\n",
       "                .geemap-colab .jupyter-button {\n",
       "                    --jp-layout-color3: var(--colab-primary-surface-color, white);\n",
       "                }\n",
       "            </style>\n",
       "            "
      ],
      "text/plain": [
       "<IPython.core.display.HTML object>"
      ]
     },
     "metadata": {},
     "output_type": "display_data"
    },
    {
     "name": "stdout",
     "output_type": "stream",
     "text": [
      "🚀 GEE export started... waiting for completion.\n",
      "⏳ Task state: READY\n",
      "⏳ Task state: RUNNING\n",
      "⏳ Task state: RUNNING\n",
      "⏳ Task state: RUNNING\n",
      "⏳ Task state: RUNNING\n",
      "⏳ Task state: RUNNING\n",
      "✅ Export complete: {'state': 'COMPLETED', 'description': 'DryCreek_ET2022', 'priority': 100, 'creation_timestamp_ms': 1761273098612, 'update_timestamp_ms': 1761273279656, 'start_timestamp_ms': 1761273109408, 'task_type': 'EXPORT_IMAGE', 'destination_uris': ['https://drive.google.com/#folders/1rj597hrdb1FQ3lPdUp_A__dFgUlMrl31'], 'attempt': 1, 'batch_eecu_usage_seconds': 448.31695556640625, 'id': 'DNBMY7H4DSPVPF7XQRF7XIUZ', 'name': 'projects/153414845949/operations/DNBMY7H4DSPVPF7XQRF7XIUZ'}\n"
     ]
    }
   ],
   "source": [
    "# === IMPORT PACKAGES ===\n",
    "import time\n",
    "import os\n",
    "import io\n",
    "import zipfile\n",
    "import arcpy\n",
    "\n",
    "from googleapiclient.discovery import build\n",
    "from google.oauth2 import service_account\n",
    "from googleapiclient.http import MediaIoBaseDownload\n",
    "\n",
    "# === USER CONFIGURATION ===\n",
    "SERVICE_ACCOUNT_FILE = r\"C:\\School\\thesis_stuff\\DryCreekLandsat\\gee-drive-access-beed7fc2e972.json\"\n",
    "LOCAL_EXPORT_FOLDER = r\"C:\\School\\Thesis_stuff\\DryCreekLandsat\\gee_exports\"\n",
    "GDRIVE_FOLDER = 'gee_exports'\n",
    "EXPORT_PREFIX = 'DryCreek_ET' + year\n",
    "EXPORT_TYPE = 'image'   # 'image' or 'table'\n",
    "\n",
    "# === INITIALIZE EARTH ENGINE ===\n",
    "ee.Initialize()\n",
    "\n",
    "# === CREATE EXPORT TASK ===\n",
    "if EXPORT_TYPE == 'image':\n",
    "    task = ee.batch.Export.image.toDrive(\n",
    "        image=landsat_et_composite,\n",
    "        description=EXPORT_PREFIX,\n",
    "        folder=GDRIVE_FOLDER,\n",
    "        fileNamePrefix=EXPORT_PREFIX,\n",
    "        region=region.geometry().bounds(),\n",
    "        scale=30,\n",
    "        crs='EPSG:32611'\n",
    "    )\n",
    "elif EXPORT_TYPE == 'table':\n",
    "    fc = ee.FeatureCollection(\"USDOS/LSIB_SIMPLE/2017\")\n",
    "    task = ee.batch.Export.table.toDrive(\n",
    "        collection=fc,\n",
    "        description=EXPORT_PREFIX,\n",
    "        folder=GDRIVE_FOLDER,\n",
    "        fileNamePrefix=EXPORT_PREFIX,\n",
    "        fileFormat='SHP'\n",
    "    )\n",
    "else:\n",
    "    raise ValueError(\"EXPORT_TYPE must be 'image' or 'table'.\")\n",
    "\n",
    "# === START AND MONITOR TASK ===\n",
    "task.start()\n",
    "print(\"🚀 GEE export started... waiting for completion.\")\n",
    "\n",
    "while task.status()['state'] in ['READY', 'RUNNING']:\n",
    "    print(\"⏳ Task state:\", task.status()['state'])\n",
    "    time.sleep(30)  # check every 30 seconds\n",
    "\n",
    "status = task.status()\n",
    "print(\"✅ Export complete:\", status)\n",
    "\n",
    "if status['state'] != 'COMPLETED':\n",
    "    raise RuntimeError(f\"Export failed: {status}\")\n",
    "\n",
    "\n",
    "\n",
    "    \n"
   ]
  },
  {
   "cell_type": "code",
   "execution_count": 121,
   "id": "c9a6624f",
   "metadata": {},
   "outputs": [
    {
     "data": {
      "text/html": [
       "\n",
       "            <style>\n",
       "                .geemap-dark {\n",
       "                    --jp-widgets-color: white;\n",
       "                    --jp-widgets-label-color: white;\n",
       "                    --jp-ui-font-color1: white;\n",
       "                    --jp-layout-color2: #454545;\n",
       "                    background-color: #383838;\n",
       "                }\n",
       "\n",
       "                .geemap-dark .jupyter-button {\n",
       "                    --jp-layout-color3: #383838;\n",
       "                }\n",
       "\n",
       "                .geemap-colab {\n",
       "                    background-color: var(--colab-primary-surface-color, white);\n",
       "                }\n",
       "\n",
       "                .geemap-colab .jupyter-button {\n",
       "                    --jp-layout-color3: var(--colab-primary-surface-color, white);\n",
       "                }\n",
       "            </style>\n",
       "            "
      ],
      "text/plain": [
       "<IPython.core.display.HTML object>"
      ]
     },
     "metadata": {},
     "output_type": "display_data"
    },
    {
     "name": "stdout",
     "output_type": "stream",
     "text": [
      "⬇️ Downloading DryCreek_ET2022.tif from Google Drive...\n",
      "  Progress: 100%\n",
      "✅ Downloaded: C:\\School\\Thesis_stuff\\DryCreekLandsat\\gee_exports\\DryCreek_ET2022.tif\n"
     ]
    }
   ],
   "source": [
    "# === AUTHENTICATE GOOGLE DRIVE ===\n",
    "SCOPES = ['https://www.googleapis.com/auth/drive.readonly']\n",
    "creds = service_account.Credentials.from_service_account_file(SERVICE_ACCOUNT_FILE, scopes=SCOPES)\n",
    "drive_service = build('drive', 'v3', credentials=creds)\n",
    "\n",
    "# === FIND FILE IN GOOGLE DRIVE ===\n",
    "query = f\"name contains '{EXPORT_PREFIX}'\"\n",
    "results = drive_service.files().list(q=query, fields=\"files(id, name)\").execute()\n",
    "files = results.get('files', [])\n",
    "\n",
    "if not files:\n",
    "    raise FileNotFoundError(\"❌ No exported file found in Google Drive.\")\n",
    "\n",
    "for f in files:\n",
    "    file_id = f['id']\n",
    "    file_name = f['name']\n",
    "    print(f\"⬇️ Downloading {file_name} from Google Drive...\")\n",
    "\n",
    "    local_path = os.path.join(LOCAL_EXPORT_FOLDER, file_name)\n",
    "    os.makedirs(LOCAL_EXPORT_FOLDER, exist_ok=True)\n",
    "\n",
    "    request = drive_service.files().get_media(fileId=file_id)\n",
    "    fh = io.FileIO(local_path, 'wb')\n",
    "    downloader = MediaIoBaseDownload(fh, request)\n",
    "\n",
    "    done = False\n",
    "    while not done:\n",
    "        status, done = downloader.next_chunk()\n",
    "        print(f\"  Progress: {int(status.progress() * 100)}%\")\n",
    "\n",
    "    fh.close()\n",
    "    print(f\"✅ Downloaded: {local_path}\")\n",
    "\n",
    "    # === UNZIP IF NEEDED ===\n",
    "    if file_name.endswith(\".zip\"):\n",
    "        with zipfile.ZipFile(local_path, 'r') as zip_ref:\n",
    "            zip_ref.extractall(LOCAL_EXPORT_FOLDER)\n",
    "        print(f\"📂 Extracted contents to {LOCAL_EXPORT_FOLDER}\")\n",
    "\n"
   ]
  },
  {
   "cell_type": "code",
   "execution_count": null,
   "id": "623b0815",
   "metadata": {},
   "outputs": [],
   "source": [
    "# === ADD DOWNLOADED FILE(S) TO ARCGIS MAP ===\n",
    "print(\"🗺️ Adding exported layers to ArcGIS Pro project...\")\n",
    "\n",
    "aprx = arcpy.mp.ArcGISProject(r\"C:\\School\\thesis_stuff\\DryCreekLandsat\\DryCreekLandsat\\DryCreekLandsat.aprx\")\n",
    "m = aprx.activeMap\n",
    "\n",
    "for root, dirs, files in os.walk(LOCAL_EXPORT_FOLDER):\n",
    "    for file in files:\n",
    "        if file.endswith((\".tif\", \".shp\")):\n",
    "            full_path = os.path.join(root, file)\n",
    "            try:\n",
    "                m.addDataFromPath(full_path)\n",
    "                print(f\"✅ Added to map: {file}\")\n",
    "            except Exception as e:\n",
    "                print(f\"⚠️ Could not add {file}: {e}\")\n",
    "\n",
    "print(\"🎉 All done! Layers from GEE are now added to your ArcGIS Pro map.\")\n",
    "]\n",
    "\n",
    "for layer in layers_to_add:\n",
    "    path = os.path.join(layer_folder, layer)\n",
    "    if os.path.exists(path):\n",
    "        m.addDataFromPath(path)\n",
    "        print(f\"✅ Added {layer}\")\n",
    "    else:\n",
    "        print(f\"⚠️ Missing layer: {layer}\")\n",
    "\n",
    "print(\"All requested layers processed.\")\n",
    "\n"
   ]
  }
 ],
 "metadata": {
  "kernelspec": {
   "display_name": "max_arcpy_env",
   "language": "python",
   "name": "python3"
  },
  "language_info": {
   "codemirror_mode": {
    "name": "ipython",
    "version": 3
   },
   "file_extension": ".py",
   "mimetype": "text/x-python",
   "name": "python",
   "nbconvert_exporter": "python",
   "pygments_lexer": "ipython3",
   "version": "3.11.11"
  }
 },
 "nbformat": 4,
 "nbformat_minor": 5
}
